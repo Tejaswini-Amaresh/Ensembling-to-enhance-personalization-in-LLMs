{
  "nbformat": 4,
  "nbformat_minor": 0,
  "metadata": {
    "colab": {
      "provenance": [],
      "gpuType": "T4"
    },
    "kernelspec": {
      "name": "python3",
      "display_name": "Python 3"
    },
    "language_info": {
      "name": "python"
    },
    "accelerator": "GPU",
    "widgets": {
      "application/vnd.jupyter.widget-state+json": {
        "d5058eb872d6485ab1d7f16da5030291": {
          "model_module": "@jupyter-widgets/controls",
          "model_name": "HBoxModel",
          "model_module_version": "1.5.0",
          "state": {
            "_dom_classes": [],
            "_model_module": "@jupyter-widgets/controls",
            "_model_module_version": "1.5.0",
            "_model_name": "HBoxModel",
            "_view_count": null,
            "_view_module": "@jupyter-widgets/controls",
            "_view_module_version": "1.5.0",
            "_view_name": "HBoxView",
            "box_style": "",
            "children": [
              "IPY_MODEL_7d812bc62fc74cf8bbafe5eedf6d6094",
              "IPY_MODEL_900db00bb47d41a0b6eafc949dda9557",
              "IPY_MODEL_ecc90c9487e14cbebc9e36cb3de8be26"
            ],
            "layout": "IPY_MODEL_e35a4beeb4d6415a8910153ef0753249"
          }
        },
        "7d812bc62fc74cf8bbafe5eedf6d6094": {
          "model_module": "@jupyter-widgets/controls",
          "model_name": "HTMLModel",
          "model_module_version": "1.5.0",
          "state": {
            "_dom_classes": [],
            "_model_module": "@jupyter-widgets/controls",
            "_model_module_version": "1.5.0",
            "_model_name": "HTMLModel",
            "_view_count": null,
            "_view_module": "@jupyter-widgets/controls",
            "_view_module_version": "1.5.0",
            "_view_name": "HTMLView",
            "description": "",
            "description_tooltip": null,
            "layout": "IPY_MODEL_e1f272b3f6e2448a94f9413231064aff",
            "placeholder": "​",
            "style": "IPY_MODEL_30aac72e04604b92a3f665b346cb9f27",
            "value": " 96%"
          }
        },
        "900db00bb47d41a0b6eafc949dda9557": {
          "model_module": "@jupyter-widgets/controls",
          "model_name": "FloatProgressModel",
          "model_module_version": "1.5.0",
          "state": {
            "_dom_classes": [],
            "_model_module": "@jupyter-widgets/controls",
            "_model_module_version": "1.5.0",
            "_model_name": "FloatProgressModel",
            "_view_count": null,
            "_view_module": "@jupyter-widgets/controls",
            "_view_module_version": "1.5.0",
            "_view_name": "ProgressView",
            "bar_style": "",
            "description": "",
            "description_tooltip": null,
            "layout": "IPY_MODEL_9486544a01bf4d0a8c1608d7ecb5a564",
            "max": 2000,
            "min": 0,
            "orientation": "horizontal",
            "style": "IPY_MODEL_b3625a20cba04ffa901e524183a4651d",
            "value": 1925
          }
        },
        "ecc90c9487e14cbebc9e36cb3de8be26": {
          "model_module": "@jupyter-widgets/controls",
          "model_name": "HTMLModel",
          "model_module_version": "1.5.0",
          "state": {
            "_dom_classes": [],
            "_model_module": "@jupyter-widgets/controls",
            "_model_module_version": "1.5.0",
            "_model_name": "HTMLModel",
            "_view_count": null,
            "_view_module": "@jupyter-widgets/controls",
            "_view_module_version": "1.5.0",
            "_view_name": "HTMLView",
            "description": "",
            "description_tooltip": null,
            "layout": "IPY_MODEL_deaaddd196d84394ade3caa20e0622d2",
            "placeholder": "​",
            "style": "IPY_MODEL_61c27c86ea314f29b658ca3d20026ce5",
            "value": " 1925/2000 [01:19&lt;00:02, 32.40it/s]"
          }
        },
        "e35a4beeb4d6415a8910153ef0753249": {
          "model_module": "@jupyter-widgets/base",
          "model_name": "LayoutModel",
          "model_module_version": "1.2.0",
          "state": {
            "_model_module": "@jupyter-widgets/base",
            "_model_module_version": "1.2.0",
            "_model_name": "LayoutModel",
            "_view_count": null,
            "_view_module": "@jupyter-widgets/base",
            "_view_module_version": "1.2.0",
            "_view_name": "LayoutView",
            "align_content": null,
            "align_items": null,
            "align_self": null,
            "border": null,
            "bottom": null,
            "display": null,
            "flex": null,
            "flex_flow": null,
            "grid_area": null,
            "grid_auto_columns": null,
            "grid_auto_flow": null,
            "grid_auto_rows": null,
            "grid_column": null,
            "grid_gap": null,
            "grid_row": null,
            "grid_template_areas": null,
            "grid_template_columns": null,
            "grid_template_rows": null,
            "height": null,
            "justify_content": null,
            "justify_items": null,
            "left": null,
            "margin": null,
            "max_height": null,
            "max_width": null,
            "min_height": null,
            "min_width": null,
            "object_fit": null,
            "object_position": null,
            "order": null,
            "overflow": null,
            "overflow_x": null,
            "overflow_y": null,
            "padding": null,
            "right": null,
            "top": null,
            "visibility": null,
            "width": null
          }
        },
        "e1f272b3f6e2448a94f9413231064aff": {
          "model_module": "@jupyter-widgets/base",
          "model_name": "LayoutModel",
          "model_module_version": "1.2.0",
          "state": {
            "_model_module": "@jupyter-widgets/base",
            "_model_module_version": "1.2.0",
            "_model_name": "LayoutModel",
            "_view_count": null,
            "_view_module": "@jupyter-widgets/base",
            "_view_module_version": "1.2.0",
            "_view_name": "LayoutView",
            "align_content": null,
            "align_items": null,
            "align_self": null,
            "border": null,
            "bottom": null,
            "display": null,
            "flex": null,
            "flex_flow": null,
            "grid_area": null,
            "grid_auto_columns": null,
            "grid_auto_flow": null,
            "grid_auto_rows": null,
            "grid_column": null,
            "grid_gap": null,
            "grid_row": null,
            "grid_template_areas": null,
            "grid_template_columns": null,
            "grid_template_rows": null,
            "height": null,
            "justify_content": null,
            "justify_items": null,
            "left": null,
            "margin": null,
            "max_height": null,
            "max_width": null,
            "min_height": null,
            "min_width": null,
            "object_fit": null,
            "object_position": null,
            "order": null,
            "overflow": null,
            "overflow_x": null,
            "overflow_y": null,
            "padding": null,
            "right": null,
            "top": null,
            "visibility": null,
            "width": null
          }
        },
        "30aac72e04604b92a3f665b346cb9f27": {
          "model_module": "@jupyter-widgets/controls",
          "model_name": "DescriptionStyleModel",
          "model_module_version": "1.5.0",
          "state": {
            "_model_module": "@jupyter-widgets/controls",
            "_model_module_version": "1.5.0",
            "_model_name": "DescriptionStyleModel",
            "_view_count": null,
            "_view_module": "@jupyter-widgets/base",
            "_view_module_version": "1.2.0",
            "_view_name": "StyleView",
            "description_width": ""
          }
        },
        "9486544a01bf4d0a8c1608d7ecb5a564": {
          "model_module": "@jupyter-widgets/base",
          "model_name": "LayoutModel",
          "model_module_version": "1.2.0",
          "state": {
            "_model_module": "@jupyter-widgets/base",
            "_model_module_version": "1.2.0",
            "_model_name": "LayoutModel",
            "_view_count": null,
            "_view_module": "@jupyter-widgets/base",
            "_view_module_version": "1.2.0",
            "_view_name": "LayoutView",
            "align_content": null,
            "align_items": null,
            "align_self": null,
            "border": null,
            "bottom": null,
            "display": null,
            "flex": null,
            "flex_flow": null,
            "grid_area": null,
            "grid_auto_columns": null,
            "grid_auto_flow": null,
            "grid_auto_rows": null,
            "grid_column": null,
            "grid_gap": null,
            "grid_row": null,
            "grid_template_areas": null,
            "grid_template_columns": null,
            "grid_template_rows": null,
            "height": null,
            "justify_content": null,
            "justify_items": null,
            "left": null,
            "margin": null,
            "max_height": null,
            "max_width": null,
            "min_height": null,
            "min_width": null,
            "object_fit": null,
            "object_position": null,
            "order": null,
            "overflow": null,
            "overflow_x": null,
            "overflow_y": null,
            "padding": null,
            "right": null,
            "top": null,
            "visibility": null,
            "width": null
          }
        },
        "b3625a20cba04ffa901e524183a4651d": {
          "model_module": "@jupyter-widgets/controls",
          "model_name": "ProgressStyleModel",
          "model_module_version": "1.5.0",
          "state": {
            "_model_module": "@jupyter-widgets/controls",
            "_model_module_version": "1.5.0",
            "_model_name": "ProgressStyleModel",
            "_view_count": null,
            "_view_module": "@jupyter-widgets/base",
            "_view_module_version": "1.2.0",
            "_view_name": "StyleView",
            "bar_color": null,
            "description_width": ""
          }
        },
        "deaaddd196d84394ade3caa20e0622d2": {
          "model_module": "@jupyter-widgets/base",
          "model_name": "LayoutModel",
          "model_module_version": "1.2.0",
          "state": {
            "_model_module": "@jupyter-widgets/base",
            "_model_module_version": "1.2.0",
            "_model_name": "LayoutModel",
            "_view_count": null,
            "_view_module": "@jupyter-widgets/base",
            "_view_module_version": "1.2.0",
            "_view_name": "LayoutView",
            "align_content": null,
            "align_items": null,
            "align_self": null,
            "border": null,
            "bottom": null,
            "display": null,
            "flex": null,
            "flex_flow": null,
            "grid_area": null,
            "grid_auto_columns": null,
            "grid_auto_flow": null,
            "grid_auto_rows": null,
            "grid_column": null,
            "grid_gap": null,
            "grid_row": null,
            "grid_template_areas": null,
            "grid_template_columns": null,
            "grid_template_rows": null,
            "height": null,
            "justify_content": null,
            "justify_items": null,
            "left": null,
            "margin": null,
            "max_height": null,
            "max_width": null,
            "min_height": null,
            "min_width": null,
            "object_fit": null,
            "object_position": null,
            "order": null,
            "overflow": null,
            "overflow_x": null,
            "overflow_y": null,
            "padding": null,
            "right": null,
            "top": null,
            "visibility": null,
            "width": null
          }
        },
        "61c27c86ea314f29b658ca3d20026ce5": {
          "model_module": "@jupyter-widgets/controls",
          "model_name": "DescriptionStyleModel",
          "model_module_version": "1.5.0",
          "state": {
            "_model_module": "@jupyter-widgets/controls",
            "_model_module_version": "1.5.0",
            "_model_name": "DescriptionStyleModel",
            "_view_count": null,
            "_view_module": "@jupyter-widgets/base",
            "_view_module_version": "1.2.0",
            "_view_name": "StyleView",
            "description_width": ""
          }
        }
      }
    }
  },
  "cells": [
    {
      "cell_type": "code",
      "execution_count": null,
      "metadata": {
        "id": "_UsHnkc0UKqp"
      },
      "outputs": [],
      "source": [
        "from transformers import BertTokenizer, BertModel\n",
        "from sklearn.metrics.pairwise import cosine_similarity"
      ]
    },
    {
      "cell_type": "code",
      "source": [
        "from google.colab import drive\n",
        "drive.mount('/content/drive')"
      ],
      "metadata": {
        "colab": {
          "base_uri": "https://localhost:8080/"
        },
        "id": "uGftbVXAGUkE",
        "outputId": "73118a40-d43a-4a4c-9244-b34b16e23f54"
      },
      "execution_count": null,
      "outputs": [
        {
          "output_type": "stream",
          "name": "stdout",
          "text": [
            "Drive already mounted at /content/drive; to attempt to forcibly remount, call drive.mount(\"/content/drive\", force_remount=True).\n"
          ]
        }
      ]
    },
    {
      "cell_type": "code",
      "source": [
        "from tqdm.auto import tqdm\n",
        "\n",
        "def get_top_k_aip_lamp2(query,docs,categories,scores,k):\n",
        "    res = sorted(list(zip(docs,categories,scores)),key = lambda x:x[2],reverse=True)\n",
        "    final = \"\"\n",
        "    for i in range(min(k,len(scores))):\n",
        "        ppep = 'the category for the article:\"'+res[i][0]+'\" is \"'+res[i][1]+'\", and '\n",
        "        final +=ppep\n",
        "    final = final[:-6] + \".\"+query\n",
        "    return final\n",
        "\n",
        "def get_top_k_aip_lamp4(query,docs,title,scores,k):\n",
        "    res = sorted(list(zip(docs,title,scores)),key = lambda x:x[2],reverse=True)\n",
        "    final = \"\"\n",
        "    for i in range(min(k,len(scores))):\n",
        "        ppep = '\"'+ res[i][1]+'\" is the title for \"' + res[i][0] + '\", and '\n",
        "        final +=ppep\n",
        "    final = final[:-6] + \".\"+query\n",
        "    return final\n",
        "\n",
        "def bert(all_data, tokenizer, model):\n",
        "\n",
        "    f_aip = open(path + aip, \"a+\")\n",
        "    #f_score = open(\"drive/MyDrive/646:IR/scores.txt\", \"a+\")\n",
        "\n",
        "    progress_bar = tqdm(range(2000))\n",
        "\n",
        "    txt = \"the category for the article: \"\n",
        "    for instance in all_data:\n",
        "        query = instance['query']\n",
        "        document_tokens = tokenizer.batch_encode_plus(instance['docs'], padding=True, truncation=True, return_tensors='pt').to('cuda')\n",
        "        query_tokens = tokenizer.encode_plus(query, padding=True, truncation=True, return_tensors='pt').to('cuda')\n",
        "        document_embeddings = model(**document_tokens).last_hidden_state.mean(dim=1)  # Average pooling over tokens\n",
        "        query_embedding = model(**query_tokens).last_hidden_state.mean(dim=1).squeeze()\n",
        "        similarities = cosine_similarity(query_embedding.reshape(1, -1).detach().cpu().numpy(), document_embeddings.detach().cpu().numpy()).squeeze()\n",
        "        # cur_aip = get_top_k_aip_lamp2(query, instance['docs'], instance['titles'], similarities, 3)\n",
        "        cur_aip = get_top_k_aip_lamp4(query, instance['docs'], instance['titles'], similarities, 3)\n",
        "        f_aip.write(cur_aip+\"----\")\n",
        "        progress_bar.update(1)\n",
        "\n",
        "    f_aip.close()\n"
      ],
      "metadata": {
        "id": "JOAMnSDYUMrY"
      },
      "execution_count": null,
      "outputs": []
    },
    {
      "cell_type": "code",
      "source": [
        "import json\n",
        "import numpy as np\n",
        "import time\n",
        "import pandas as pd\n",
        "\n",
        "\n",
        "def get_llm_input():\n",
        "    f = open(path + aip,\"r\")\n",
        "    aip_text = f.read().split(\"----\")\n",
        "    aip_text.pop()\n",
        "    len(aip_text)\n",
        "    f2 = open(path + output)\n",
        "    y_true = json.load(f2)\n",
        "    y_true = y_true[\"golds\"]\n",
        "\n",
        "    y_true = [i['output'] for i in y_true]\n",
        "    y_true = y_true\n",
        "    print(len(aip_text))\n",
        "    llm_data = pd.DataFrame({\n",
        "        'text':aip_text,\n",
        "        'label':y_true\n",
        "    })\n",
        "    llm_data.to_csv(path + llm_input)"
      ],
      "metadata": {
        "id": "i3vfpH3FWiL8"
      },
      "execution_count": null,
      "outputs": []
    },
    {
      "cell_type": "code",
      "source": [
        "prefix_path = 'drive/MyDrive/646:IR/'\n",
        "dataset = 'Lamp4U/' #change\n",
        "mode = 'vali/' #change train or vali\n",
        "data = 'bm25_hnsw_top_5.json'\n",
        "aip = 'aip.txt'\n",
        "output = 'dev_outputs.json'\n",
        "llm_input = 'bm25_hnsw_llm.csv'\n",
        "\n",
        "path = prefix_path + dataset + mode\n",
        "file_path = path + 'bm25_hnsw_top_5.json'\n",
        "bm25_hnsw_res = None\n",
        "with open(file_path, 'r') as file:\n",
        "  bm25_hnsw_res = json.load(file)\n",
        "print(len(bm25_hnsw_res))\n"
      ],
      "metadata": {
        "colab": {
          "base_uri": "https://localhost:8080/"
        },
        "id": "ObBBHwDkFKNU",
        "outputId": "f0931d13-deed-467d-e356-9e1c5b578e0c"
      },
      "execution_count": null,
      "outputs": [
        {
          "output_type": "stream",
          "name": "stdout",
          "text": [
            "1925\n"
          ]
        }
      ]
    },
    {
      "cell_type": "code",
      "source": [
        "tokenizer = BertTokenizer.from_pretrained('bert-base-uncased')\n",
        "model = BertModel.from_pretrained('bert-base-uncased')\n",
        "model.to('cuda')\n",
        "\n",
        "bert(bm25_hnsw_res,tokenizer,model)"
      ],
      "metadata": {
        "colab": {
          "base_uri": "https://localhost:8080/",
          "height": 49,
          "referenced_widgets": [
            "d5058eb872d6485ab1d7f16da5030291",
            "7d812bc62fc74cf8bbafe5eedf6d6094",
            "900db00bb47d41a0b6eafc949dda9557",
            "ecc90c9487e14cbebc9e36cb3de8be26",
            "e35a4beeb4d6415a8910153ef0753249",
            "e1f272b3f6e2448a94f9413231064aff",
            "30aac72e04604b92a3f665b346cb9f27",
            "9486544a01bf4d0a8c1608d7ecb5a564",
            "b3625a20cba04ffa901e524183a4651d",
            "deaaddd196d84394ade3caa20e0622d2",
            "61c27c86ea314f29b658ca3d20026ce5"
          ]
        },
        "id": "yFeT0pxgyPlT",
        "outputId": "65e2ca4f-0d4a-48b0-95cb-cc8146bd340f"
      },
      "execution_count": null,
      "outputs": [
        {
          "output_type": "display_data",
          "data": {
            "text/plain": [
              "  0%|          | 0/2000 [00:00<?, ?it/s]"
            ],
            "application/vnd.jupyter.widget-view+json": {
              "version_major": 2,
              "version_minor": 0,
              "model_id": "d5058eb872d6485ab1d7f16da5030291"
            }
          },
          "metadata": {}
        }
      ]
    },
    {
      "cell_type": "code",
      "source": [
        "get_llm_input()"
      ],
      "metadata": {
        "colab": {
          "base_uri": "https://localhost:8080/"
        },
        "id": "MpynIAUZKOFJ",
        "outputId": "17471d3d-b27f-4429-a6b0-8641ffc30c26"
      },
      "execution_count": null,
      "outputs": [
        {
          "output_type": "stream",
          "name": "stdout",
          "text": [
            "1925\n"
          ]
        }
      ]
    },
    {
      "cell_type": "markdown",
      "source": [],
      "metadata": {
        "id": "pitxQj96Jipd"
      }
    }
  ]
}